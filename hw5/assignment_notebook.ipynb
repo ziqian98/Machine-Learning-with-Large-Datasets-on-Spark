{
  "nbformat": 4,
  "nbformat_minor": 0,
  "metadata": {
    "colab": {
      "name": "“assignment_notebook.ipynb”的副本",
      "provenance": [],
      "collapsed_sections": []
    },
    "kernelspec": {
      "display_name": "Python 3",
      "language": "python",
      "name": "python3"
    },
    "language_info": {
      "codemirror_mode": {
        "name": "ipython",
        "version": 3
      },
      "file_extension": ".py",
      "mimetype": "text/x-python",
      "name": "python",
      "nbconvert_exporter": "python",
      "pygments_lexer": "ipython3",
      "version": "3.7.6"
    }
  },
  "cells": [
    {
      "cell_type": "markdown",
      "metadata": {
        "id": "g-ANvkwwFPKd",
        "colab_type": "text"
      },
      "source": [
        "# CMU 10-405/10-605 auto-graded notebook\n",
        "\n",
        "Before you turn this assignment in, make sure everything runs as expected. First, **restart the kernel** (in the menubar, select Kernel$\\rightarrow$Restart) and then **run all cells** (in the menubar, select Cell$\\rightarrow$Run All).\n",
        "\n",
        "Make sure you fill in any place that says `YOUR CODE HERE` or \"YOUR ANSWER HERE.\""
      ]
    },
    {
      "cell_type": "markdown",
      "metadata": {
        "id": "_KGhn5PNFPKe",
        "colab_type": "text"
      },
      "source": [
        "---"
      ]
    },
    {
      "cell_type": "markdown",
      "metadata": {
        "colab_type": "text",
        "id": "62fLXxvCtPSc"
      },
      "source": [
        "# Building Your Own Optimizers\n",
        "Optimizers tie the loss function and model parameters together by updating the model in response to the output of the loss function. In simpler terms, optimizers shape your model into its most accurate possible form by futzing with the weights. In even more simpler terms, optimizers define the way you want your model to be trained. \n",
        "\n",
        "The selection of optimizers could have dramatic effect on the performance of your model. If you choose a complex optimizer for a simple model, you would be likely to spend much more time in training with barely improved accuracy. And if you choose a naive optimizer for a complicated model, you would probably end up with poor accuracy.  \n",
        "\n",
        "This exercise will cover:\n",
        "- *Part 1: Calling existing optimizers provided by tf.keras*\n",
        "- *Part 2: Implementing and evaluating your own optimizers*\n"
      ]
    },
    {
      "cell_type": "markdown",
      "metadata": {
        "colab_type": "text",
        "id": "jFFfr0xJymEU"
      },
      "source": [
        "## Part 1: Calling existing optimizers provided by tf.keras\n",
        "In this part, we will build up a demo pipeline, demonstrating how to involve optimizers given by `tf.keras` into the training process. "
      ]
    },
    {
      "cell_type": "markdown",
      "metadata": {
        "colab_type": "text",
        "id": "BK-Y1FCJzMAD"
      },
      "source": [
        "## (1a) Setting up the environment\n",
        "Just run the following cell to establish the runtime environment. Note that we're using Tensorflow 2.0 for this part of assignment. "
      ]
    },
    {
      "cell_type": "code",
      "metadata": {
        "colab_type": "code",
        "id": "_EyUqv7tznpQ",
        "colab": {}
      },
      "source": [
        "from __future__ import absolute_import, division, print_function, unicode_literals\n",
        "\n",
        "# If running locally, comment out the following try-except block. \n",
        "try:\n",
        "  # %tensorflow_version only exists in Colab.\n",
        "  %tensorflow_version 2.x\n",
        "except Exception:\n",
        "  pass\n",
        "\n",
        "import tensorflow as tf\n",
        "import numpy as np\n",
        "from tensorflow.python.ops import math_ops"
      ],
      "execution_count": 0,
      "outputs": []
    },
    {
      "cell_type": "markdown",
      "metadata": {
        "colab_type": "text",
        "id": "Jq1P1vvkz7J-"
      },
      "source": [
        "## (1b) Building a baseline model\n",
        "In this task, you will create a simple Linear Regression model with a synthetic toy dataset. Mean Squared Error (MSE) will be used as the loss metric. \n",
        "\n",
        "Note we have set a seed for `tf.random` for auto grading purpose. Please don't change the seed. "
      ]
    },
    {
      "cell_type": "code",
      "metadata": {
        "colab_type": "code",
        "deletable": false,
        "id": "YGJTEMT01sP0",
        "nbgrader": {
          "cell_type": "code",
          "checksum": "e73462dde769e73dba5e6793e8220633",
          "grade": false,
          "grade_id": "LR_MSE",
          "locked": false,
          "schema_version": 3,
          "solution": true,
          "task": false
        },
        "colab": {}
      },
      "source": [
        "# A toy dataset of points around y = 4 * x_1 + 3 * x_2 + 2\n",
        "NUM_EXAMPLES = 2000\n",
        "tf.random.set_seed(10605)   # DON'T CHANGE THIS!\n",
        "X_train = tf.random.normal([NUM_EXAMPLES, 2])\n",
        "noise = tf.random.normal([NUM_EXAMPLES, 1])\n",
        "y_train = tf.matmul(X_train, [[4.], [3.]]) + 2 + noise\n",
        "\n",
        "# Definition of the Linear Regression model\n",
        "class Linear(tf.keras.Model):\n",
        "  def __init__(self):\n",
        "    super(Linear, self).__init__()\n",
        "    self.w = tf.Variable([[5., 5.]], name='weight')\n",
        "    self.b = tf.Variable(10., name='bias')\n",
        "\n",
        "  # Implementation of Linear Regression\n",
        "  # TODO: Replace <FILL IN> with appropriate code\n",
        "  def call(self, inputs):\n",
        "    \"\"\"\n",
        "      Implementation of Linear Regression. This function will use current parameters to predict the labels for inputs\n",
        "\n",
        "      Note:\n",
        "          You should try to make use of Tensorflow library to perform related calculation.\n",
        "\n",
        "      Args:\n",
        "          inputs (tf.Tensor): The input tensor of this Linear Regression model.\n",
        "\n",
        "      Returns:\n",
        "          tf.Tensor: Predicted label\n",
        "    \"\"\"\n",
        "    # return <FILL IN>\n",
        "\n",
        "    return tf.matmul(inputs,tf.transpose(self.w))+self.b\n",
        "\n",
        "    # YOUR CODE HERE\n",
        "    #raise NotImplementedError()\n",
        "\n",
        "# MSE loss function\n",
        "# TODO: Replace <FILL IN> with appropriate code\n",
        "def loss(y_true, y_pred):\n",
        "  \"\"\"\n",
        "    Calculate MSE loss between the predicted label and the actual label.\n",
        "\n",
        "    Note:\n",
        "        You should try to make use of Tensorflow library to perform related calculation.\n",
        "\n",
        "    Args:\n",
        "        y_true (tf.Tensor): The actual label.\n",
        "        y_pred (tf.Tensor): The predicted label.\n",
        "\n",
        "    Returns:\n",
        "        tf.Tensor: MSE loss value\n",
        "  \"\"\"\n",
        "  # return <FILL IN>\n",
        "\n",
        "  print(y_pred.shape)\n",
        "\n",
        "  return tf.reduce_mean(tf.square(y_true-y_pred),0)\n",
        "\n",
        "  # YOUR CODE HERE\n",
        "  #raise NotImplementedError()"
      ],
      "execution_count": 0,
      "outputs": []
    },
    {
      "cell_type": "code",
      "metadata": {
        "id": "8eBKyRDgkkiE",
        "colab_type": "code",
        "colab": {
          "base_uri": "https://localhost:8080/",
          "height": 51
        },
        "outputId": "8abcef38-b602-4501-80eb-7111061a0a18"
      },
      "source": [
        "#m(x).numpy()\n",
        "loss(m(x), y)"
      ],
      "execution_count": 71,
      "outputs": [
        {
          "output_type": "stream",
          "text": [
            "(1,)\n"
          ],
          "name": "stdout"
        },
        {
          "output_type": "execute_result",
          "data": {
            "text/plain": [
              "<tf.Tensor: shape=(1,), dtype=float32, numpy=array([484.], dtype=float32)>"
            ]
          },
          "metadata": {
            "tags": []
          },
          "execution_count": 71
        }
      ]
    },
    {
      "cell_type": "code",
      "metadata": {
        "colab_type": "code",
        "deletable": false,
        "editable": false,
        "id": "QGIWie3vB05w",
        "nbgrader": {
          "cell_type": "code",
          "checksum": "f08b00caed24004bec31250b676ff240",
          "grade": true,
          "grade_id": "test_LR_MSE",
          "locked": true,
          "points": 5,
          "schema_version": 3,
          "solution": false,
          "task": false
        },
        "colab": {
          "base_uri": "https://localhost:8080/",
          "height": 34
        },
        "outputId": "58340910-dc9c-42d3-f55f-5fee08f7f1e2"
      },
      "source": [
        "# Test for LR_MSE\n",
        "m, x, y = Linear(), tf.constant([[1.0, 2.0]]), tf.constant([3.0])\n",
        "assert np.equal(m(x).numpy()[0][0], 25.0), \"Wrong implementation of Linear Regression\"\n",
        "assert np.equal(loss(m(x), y).numpy(), 484.0), \"Wrong implementation of MSE loss\""
      ],
      "execution_count": 72,
      "outputs": [
        {
          "output_type": "stream",
          "text": [
            "(1,)\n"
          ],
          "name": "stdout"
        }
      ]
    },
    {
      "cell_type": "markdown",
      "metadata": {
        "colab_type": "text",
        "id": "2e7iwBiMKNW3"
      },
      "source": [
        "## (1c) Applying an existing optimizer\n",
        "Next, we will apply an Adam optimizer provided by `tf.keras` to our previously defined Linear Regression model. You can reuse this code snippet to validate your own optimizers.\n"
      ]
    },
    {
      "cell_type": "code",
      "metadata": {
        "colab_type": "code",
        "id": "bDTTt3FtNEJY",
        "colab": {
          "base_uri": "https://localhost:8080/",
          "height": 408
        },
        "outputId": "2e0decc9-4fbb-4100-cc4a-a047ef7ce6b6"
      },
      "source": [
        "model = Linear()\n",
        "# Standard method to compile a tf.keras.Model\n",
        "model.compile(optimizer=tf.keras.optimizers.Adam(learning_rate=0.1), loss=loss)\n",
        "# Standard method to fit a tf.keras.Model\n",
        "model.fit(X_train, y_train, batch_size=32, epochs=10)"
      ],
      "execution_count": 73,
      "outputs": [
        {
          "output_type": "stream",
          "text": [
            "Epoch 1/10\n",
            "(None, 1)\n",
            "(None, 1)\n",
            "63/63 [==============================] - 0s 925us/step - loss: 30.6623\n",
            "Epoch 2/10\n",
            "63/63 [==============================] - 0s 977us/step - loss: 2.9771\n",
            "Epoch 3/10\n",
            "63/63 [==============================] - 0s 1ms/step - loss: 1.0122\n",
            "Epoch 4/10\n",
            "63/63 [==============================] - 0s 1ms/step - loss: 0.9750\n",
            "Epoch 5/10\n",
            "63/63 [==============================] - 0s 1ms/step - loss: 0.9791\n",
            "Epoch 6/10\n",
            "63/63 [==============================] - 0s 1ms/step - loss: 0.9743\n",
            "Epoch 7/10\n",
            "63/63 [==============================] - 0s 1ms/step - loss: 0.9762\n",
            "Epoch 8/10\n",
            "63/63 [==============================] - 0s 1ms/step - loss: 0.9802\n",
            "Epoch 9/10\n",
            "63/63 [==============================] - 0s 1ms/step - loss: 0.9748\n",
            "Epoch 10/10\n",
            "63/63 [==============================] - 0s 947us/step - loss: 0.9698\n"
          ],
          "name": "stdout"
        },
        {
          "output_type": "execute_result",
          "data": {
            "text/plain": [
              "<tensorflow.python.keras.callbacks.History at 0x7f09510d37b8>"
            ]
          },
          "metadata": {
            "tags": []
          },
          "execution_count": 73
        }
      ]
    },
    {
      "cell_type": "markdown",
      "metadata": {
        "colab_type": "text",
        "id": "InSZvNu4RFFf"
      },
      "source": [
        "## Part 2: Implementing your own optimizers\n",
        "In this part, you will implement four different optimizers by yourself! Don't be panic if you're not good at math stuff, we will give you enough instructions and explanations!\n",
        "\n",
        "Generally, an optimizer class should contain three methods:\n",
        "- `__init__`: Initializes required parameters. \n",
        "-  `calculate_gradient`: Calculates gradients in the computational graph. \n",
        "- `apply_gradient`: Updates parameters of the model. \n",
        "\n",
        "Some of you may notice that we're not using the \"keras-style\" to implement our optimizers. Since keras is a high-level encapsulation, its implementation of optimizers is generally too abstract for you to get the mathematical essence. This hacky way can enable you to design your own optimizers in a lower, Tensorflow level."
      ]
    },
    {
      "cell_type": "markdown",
      "metadata": {
        "colab_type": "text",
        "id": "_yvaOmmUTyjz"
      },
      "source": [
        "## (2a) Gradient Descent\n",
        "Let's start with the simplest Gradient Descent. \n",
        "\n",
        "For a Linear Regression model with MSE where $\\mathbf{y}=w^T\\mathbf{X} + b$, the update rules of parameters at the $t$ th epoch are as follows:\n",
        "\n",
        "$$w^{(t+1)}=w^{(t)}-\\frac{\\alpha}{n} \\sum_{i=1}^{n} 2 \\cdot (h_{w,b}(\\mathbf{X}^{(i)}) - \\mathbf{y}^{(i)}) \\mathbf{X}^{(i)}$$\n",
        "\n",
        "$$b^{(t+1)}=b^{(t)}-\\frac{\\alpha}{n} \\sum_{i=1}^{n} 2 \\cdot (h_{w,b}(\\mathbf{X}^{(i)}) - \\mathbf{y}^{(i)}))$$\n",
        "\n",
        "where $n$ is the size of input dataset. \n",
        "\n"
      ]
    },
    {
      "cell_type": "code",
      "metadata": {
        "colab_type": "code",
        "deletable": false,
        "id": "Iv5EvSVQagfz",
        "nbgrader": {
          "cell_type": "code",
          "checksum": "9754bdc6190cf522677ec2e76afc24cb",
          "grade": false,
          "grade_id": "GD",
          "locked": false,
          "schema_version": 3,
          "solution": true,
          "task": false
        },
        "colab": {}
      },
      "source": [
        "# TODO: Replace <FILL IN> with appropriate code\n",
        "class GD():\n",
        "  def __init__(self, lr=0.01):\n",
        "    \"\"\"Initializes required parameters.\n",
        "\n",
        "      Args:\n",
        "          lr (float): Learning rate.\n",
        "    \"\"\"\n",
        "    # self.lr = <FILL IN>\n",
        "\n",
        "    self.lr = lr\n",
        "\n",
        "    # YOUR CODE HERE\n",
        "    #raise NotImplementedError()\n",
        "\n",
        "  def calculate_gradient(self, X, y, model):\n",
        "    \"\"\"Calculates gradients in the computational graph.\n",
        "\n",
        "      Note:\n",
        "          You should try to make use of Tensorflow library to perform related calculation.\n",
        "\n",
        "      Args:\n",
        "          X (tf.Tensor): The input.\n",
        "          y (tf.Tensor): The actual label.\n",
        "          model (tf.keras.Model): The model used to predict y with given input X. \n",
        "\n",
        "      Returns:\n",
        "          Tuple: (gradient w.r.t w, gradient w.r.t b)\n",
        "    \"\"\"\n",
        "    # grads_w = <FILL IN>\n",
        "    # grads_b = <FILL IN>\n",
        "    # return (<FILL IN>, <FILL IN>)\n",
        "\n",
        "    grads_w =  2 * tf.reduce_mean((model(X)-y) * X, 0,keepdims=True)\n",
        "    #grads_w = 2 * (tf.matmul(tf.transpose(model(X)-y), X) / X.shape[0])\n",
        "    grads_b  =2 * tf.reduce_mean((model(X)-y), 0)[0]\n",
        "    return (grads_w, grads_b)\n",
        "\n",
        "\n",
        "    # YOUR CODE HERE\n",
        "    #raise NotImplementedError()\n",
        "\n",
        "  def apply_gradient(self, grads, model):\n",
        "    \"\"\"Updates parameters of the model.\n",
        "\n",
        "      Note:\n",
        "          You should try to make use of Tensorflow library to perform related calculation.\n",
        "\n",
        "      Args:\n",
        "          grads (Tuple): (gradient w.r.t w, gradient w.r.t b).\n",
        "          model (tf.keras.Model): The model used to predict y with given input X. \n",
        "    \"\"\"\n",
        "    # model.w.<FILL IN>\n",
        "    # model.b.<FILL IN>\n",
        "\n",
        "    # print(\"model.w\",model.w)\n",
        "    # print(\"grads[0]\",grads[0])\n",
        "\n",
        "    # print(\"model.b\",model.b)\n",
        "    # print(\"grads[1]\",grads[1])\n",
        "\n",
        "    model.w.assign(model.w - self.lr * grads[0])\n",
        "    model.b.assign(model.b - self.lr * grads[1])\n",
        "\n",
        "    # YOUR CODE HERE\n",
        "    #raise NotImplementedError()"
      ],
      "execution_count": 0,
      "outputs": []
    },
    {
      "cell_type": "code",
      "metadata": {
        "colab_type": "code",
        "id": "FqAZAPWNsVRV",
        "colab": {
          "base_uri": "https://localhost:8080/",
          "height": 612
        },
        "outputId": "f70c7fa8-b567-43fc-ff71-a541015183c6"
      },
      "source": [
        "# Evaluation\n",
        "model_0 = Linear()\n",
        "opt_0 = GD()\n",
        "\n",
        "print(\"Initial loss: %.3f\" % loss(model_0(X_train), y_train))\n",
        "\n",
        "epochs = 300\n",
        "for i in range(epochs):\n",
        "  # Calculate current gradients\n",
        "  grads = opt_0.calculate_gradient(X_train, y_train, model_0)\n",
        "\n",
        "  # Use the optimizer to update gradients\n",
        "  opt_0.apply_gradient(grads, model_0)\n",
        "  if i % 20 == 0:\n",
        "    print(\"Loss at epoch %d: %.3f\" % (i, loss(model_0(X_train), y_train)))\n",
        "\n",
        "print(\"Final loss: %.3f\" % loss(model_0(X_train), y_train))\n",
        "print(\"w = %s, b = %s\" % (model_0.w.numpy(), model_0.b.numpy()))"
      ],
      "execution_count": 113,
      "outputs": [
        {
          "output_type": "stream",
          "text": [
            "(2000, 1)\n",
            "Initial loss: 68.725\n",
            "(2000, 1)\n",
            "Loss at epoch 0: 66.072\n",
            "(2000, 1)\n",
            "Loss at epoch 20: 30.250\n",
            "(2000, 1)\n",
            "Loss at epoch 40: 14.141\n",
            "(2000, 1)\n",
            "Loss at epoch 60: 6.895\n",
            "(2000, 1)\n",
            "Loss at epoch 80: 3.636\n",
            "(2000, 1)\n",
            "Loss at epoch 100: 2.169\n",
            "(2000, 1)\n",
            "Loss at epoch 120: 1.509\n",
            "(2000, 1)\n",
            "Loss at epoch 140: 1.212\n",
            "(2000, 1)\n",
            "Loss at epoch 160: 1.078\n",
            "(2000, 1)\n",
            "Loss at epoch 180: 1.018\n",
            "(2000, 1)\n",
            "Loss at epoch 200: 0.991\n",
            "(2000, 1)\n",
            "Loss at epoch 220: 0.979\n",
            "(2000, 1)\n",
            "Loss at epoch 240: 0.973\n",
            "(2000, 1)\n",
            "Loss at epoch 260: 0.971\n",
            "(2000, 1)\n",
            "Loss at epoch 280: 0.970\n",
            "(2000, 1)\n",
            "Final loss: 0.969\n",
            "w = [[4.0046396 3.055289 ]], b = 2.0367746\n"
          ],
          "name": "stdout"
        }
      ]
    },
    {
      "cell_type": "code",
      "metadata": {
        "colab_type": "code",
        "deletable": false,
        "editable": false,
        "id": "qB8UveuntaAd",
        "nbgrader": {
          "cell_type": "code",
          "checksum": "f29788020d6f3c633900f1c3b5174d46",
          "grade": true,
          "grade_id": "test_GD",
          "locked": true,
          "points": 5,
          "schema_version": 3,
          "solution": false,
          "task": false
        },
        "colab": {
          "base_uri": "https://localhost:8080/",
          "height": 34
        },
        "outputId": "33ef2862-25c9-4935-acac-9beff624aae3"
      },
      "source": [
        "# Test case\n",
        "assert np.allclose(loss(model_0(X_train), y_train), 0.969, atol=1e-3), 'Wrong implementation of GD'"
      ],
      "execution_count": 110,
      "outputs": [
        {
          "output_type": "stream",
          "text": [
            "(2000, 1)\n"
          ],
          "name": "stdout"
        }
      ]
    },
    {
      "cell_type": "markdown",
      "metadata": {
        "colab_type": "text",
        "id": "4gpEJl78dWkW"
      },
      "source": [
        "## (2b) Stochastic Gradient Descent\n",
        "Let's take one step further. In SGD, you should randomly choose one data point to calculate the gradient each time. "
      ]
    },
    {
      "cell_type": "code",
      "metadata": {
        "id": "1kS2R2Cx1lBd",
        "colab_type": "code",
        "colab": {}
      },
      "source": [
        "import random"
      ],
      "execution_count": 0,
      "outputs": []
    },
    {
      "cell_type": "code",
      "metadata": {
        "colab_type": "code",
        "deletable": false,
        "id": "U-uvm_TCdqTN",
        "nbgrader": {
          "cell_type": "code",
          "checksum": "111f3947040e52d9b536071859a9ee39",
          "grade": false,
          "grade_id": "SGD",
          "locked": false,
          "schema_version": 3,
          "solution": true,
          "task": false
        },
        "colab": {}
      },
      "source": [
        "# TODO: Replace <FILL IN> with appropriate code\n",
        "class SGD():\n",
        "  def __init__(self, lr=0.01):\n",
        "    \"\"\"Initializes required parameters.\n",
        "\n",
        "      Args:\n",
        "          lr (float): Learning rate.\n",
        "    \"\"\"\n",
        "    # self.lr = <FILL IN>\n",
        "    self.lr = lr\n",
        "\n",
        "    # YOUR CODE HERE\n",
        "    #raise NotImplementedError()\n",
        "\n",
        "  def calculate_gradient(self, X, y, model):\n",
        "    \"\"\"Calculates gradients in the computational graph.\n",
        "\n",
        "      Note:\n",
        "          You should try to make use of Tensorflow library to perform related calculation.\n",
        "\n",
        "      Args:\n",
        "          X (tf.Tensor): The input.\n",
        "          y (tf.Tensor): The actual label.\n",
        "          model (tf.keras.Model): The model used to predict y with given input X. \n",
        "\n",
        "      Returns:\n",
        "          Tuple: (gradient w.r.t w, gradient w.r.t b)\n",
        "    \"\"\"\n",
        "    \n",
        "    # <FILL IN>\n",
        "    # return (<FILL IN>, <FILL IN>)\n",
        "\n",
        "    row = random.randint(0,X.shape[0]-1)\n",
        "    inp = tf.reshape(X[row],[1,X.shape[1]])\n",
        "\n",
        "    grads_w = 2 * (model(inp) - y[row]) * inp\n",
        "                \n",
        "\n",
        "    #print(\"grads_w: \", grads_w)\n",
        "                \n",
        "\n",
        "    grads_b  =2 * (model(inp)-y[row])[0][0]\n",
        "\n",
        "\n",
        "    #print(\"grads_b: \", grads_b)\n",
        "    \n",
        "    \n",
        "    return (grads_w, grads_b)\n",
        "\n",
        "    # YOUR CODE HERE\n",
        "    #raise NotImplementedError()\n",
        "\n",
        "  def apply_gradient(self, grads, model):\n",
        "    \"\"\"Updates parameters of the model.\n",
        "\n",
        "      Note:\n",
        "          You should try to make use of Tensorflow library to perform related calculation.\n",
        "\n",
        "      Args:\n",
        "          grads (Tuple): (gradient w.r.t W, gradient w.r.t B).\n",
        "          model (tf.keras.Model): The model used to predict y with given input X. \n",
        "    \"\"\"\n",
        "    # model.w.<FILL IN>\n",
        "    # model.b.<FILL IN>\n",
        "\n",
        "    model.w.assign(model.w - self.lr * grads[0])\n",
        "    model.b.assign(model.b - self.lr * grads[1])\n",
        "\n",
        "    # YOUR CODE HERE\n",
        "    #raise NotImplementedError()"
      ],
      "execution_count": 0,
      "outputs": []
    },
    {
      "cell_type": "code",
      "metadata": {
        "colab_type": "code",
        "id": "5F5K9CzguDBq",
        "colab": {
          "base_uri": "https://localhost:8080/",
          "height": 612
        },
        "outputId": "5b850f4e-d64f-47ce-ad9c-b8d8a0e0bea5"
      },
      "source": [
        "# Evaluation\n",
        "model_1 = Linear()\n",
        "opt_1 = SGD()\n",
        "\n",
        "print(\"Initial loss: %.3f\" % loss(model_1(X_train), y_train))\n",
        "\n",
        "epochs = 300\n",
        "for i in range(epochs):\n",
        "  # Calculate current gradients\n",
        "  grads = opt_1.calculate_gradient(X_train, y_train, model_1)\n",
        "  # Use the optimizer to update gradients\n",
        "  opt_1.apply_gradient(grads, model_1)\n",
        "  if i % 20 == 0:\n",
        "    print(\"Loss at epoch %d: %.3f\" % (i, loss(model_1(X_train), y_train)))\n",
        "\n",
        "print(\"Final loss: %.3f\" % loss(model_1(X_train), y_train))\n",
        "print(\"w = %s, b = %s\" % (model_1.w.numpy(), model_1.b.numpy()))"
      ],
      "execution_count": 146,
      "outputs": [
        {
          "output_type": "stream",
          "text": [
            "(2000, 1)\n",
            "Initial loss: 68.725\n",
            "(2000, 1)\n",
            "Loss at epoch 0: 64.275\n",
            "(2000, 1)\n",
            "Loss at epoch 20: 30.381\n",
            "(2000, 1)\n",
            "Loss at epoch 40: 17.275\n",
            "(2000, 1)\n",
            "Loss at epoch 60: 9.916\n",
            "(2000, 1)\n",
            "Loss at epoch 80: 4.850\n",
            "(2000, 1)\n",
            "Loss at epoch 100: 2.480\n",
            "(2000, 1)\n",
            "Loss at epoch 120: 1.649\n",
            "(2000, 1)\n",
            "Loss at epoch 140: 1.281\n",
            "(2000, 1)\n",
            "Loss at epoch 160: 1.178\n",
            "(2000, 1)\n",
            "Loss at epoch 180: 1.095\n",
            "(2000, 1)\n",
            "Loss at epoch 200: 1.045\n",
            "(2000, 1)\n",
            "Loss at epoch 220: 1.048\n",
            "(2000, 1)\n",
            "Loss at epoch 240: 0.969\n",
            "(2000, 1)\n",
            "Loss at epoch 260: 0.982\n",
            "(2000, 1)\n",
            "Loss at epoch 280: 0.974\n",
            "(2000, 1)\n",
            "Final loss: 0.983\n",
            "w = [[3.9320285 3.0271976]], b = 1.9218745\n"
          ],
          "name": "stdout"
        }
      ]
    },
    {
      "cell_type": "code",
      "metadata": {
        "colab_type": "code",
        "deletable": false,
        "editable": false,
        "id": "fYQkHSwGuOC_",
        "nbgrader": {
          "cell_type": "code",
          "checksum": "3cfb94a77ae887117d88c6816d5cdc7d",
          "grade": true,
          "grade_id": "test_SGD",
          "locked": true,
          "points": 5,
          "schema_version": 3,
          "solution": false,
          "task": false
        },
        "colab": {
          "base_uri": "https://localhost:8080/",
          "height": 34
        },
        "outputId": "5467cc3c-2b67-497b-8e37-1c9580d7169d"
      },
      "source": [
        "# Test case\n",
        "assert np.allclose(loss(model_1(X_train), y_train), 1.0, atol=0.05), 'Wrong implementation of SGD'"
      ],
      "execution_count": 147,
      "outputs": [
        {
          "output_type": "stream",
          "text": [
            "(2000, 1)\n"
          ],
          "name": "stdout"
        }
      ]
    },
    {
      "cell_type": "markdown",
      "metadata": {
        "colab_type": "text",
        "id": "pIkQubmCuWWy"
      },
      "source": [
        "## (2c) AdaGrad\n",
        "\n",
        "One of the shortcomings about Gradient Descent is that its performance highly depends on the initial learning rate. Poor selection of initial learning rate would lead to either slow convergence or incapability of finding local minimum. In order to solve this problem, a revised version called AdaGrad is introduced. \n",
        "\n",
        "As its name suggests, AdaGrad makes its learning rate adaptive. To be more specific, AdaGrad uses past squared gradients to form an accumulated regularizer for its learning rate. \n",
        "\n",
        "Assuming $g^{(t)}$ is the gradient at $t$ th epoch, AdaGrad first calculates the accumulated squared gradients:\n",
        "\n",
        "$$r^{(t)}=r^{(t-1)}+(g^{(t)})^2$$\n",
        "\n",
        "Then AdaGrad will use this accumulated squared gradients to regularize its learning rate:\n",
        "\n",
        "$$w^{(t+1)}=w^{(t)}-\\frac{\\alpha}{\\sqrt{r^{(t)}} + \\epsilon} \\cdot g_w^{(t)}$$\n",
        "$$b^{(t+1)}=b^{(t)}-\\frac{\\alpha}{\\sqrt{r^{(t)}} + \\epsilon} \\cdot g_b^{(t)}$$\n",
        "\n",
        "where $\\epsilon$ is an additive constant (usually set as $10^{-7}$) that ensures we do not divide by 0. \n",
        "\n",
        "Note that you can reuse the `calculate_gradient` function in SGD for AdaGrad. \n"
      ]
    },
    {
      "cell_type": "code",
      "metadata": {
        "colab_type": "code",
        "deletable": false,
        "id": "dXcODnEjzrz1",
        "nbgrader": {
          "cell_type": "code",
          "checksum": "e8b721afab643bf082a7ce14299296d8",
          "grade": false,
          "grade_id": "AdaGrad",
          "locked": false,
          "schema_version": 3,
          "solution": true,
          "task": false
        },
        "colab": {}
      },
      "source": [
        "# TODO: Replace <FILL IN> with appropriate code\n",
        "class AdaGrad():\n",
        "  def __init__(self, lr=0.001, epsilon=1e-7):\n",
        "    \"\"\"Initializes required parameters.\n",
        "\n",
        "      Note: self.accumulator is the accumulated squared gradients. It is a tuple with following format:\n",
        "        (accumulator w.r.t w, accumulator w.r.t b)\n",
        "        And it should be initialized with the value of 0.1\n",
        "\n",
        "      Args:\n",
        "          lr (float): Learning rate.\n",
        "          epsilon (float): Additive constant that ensures we do not divide by 0.\n",
        "    \"\"\"\n",
        "    # self.lr = <FILL IN>\n",
        "    # self.epsilon = <FILL IN>\n",
        "    # self.accumulator = <FILL IN>\n",
        "\n",
        "    self.lr = lr\n",
        "    self.epsilon = epsilon\n",
        "    self.accumulator = (tf.Variable(0.1), tf.Variable(0.1))\n",
        "\n",
        "    # YOUR CODE HERE\n",
        "    #raise NotImplementedError()\n",
        "    \n",
        "  def calculate_gradient(self, X, y, model):\n",
        "    \"\"\"Calculates gradients in the computational graph.\n",
        "\n",
        "      Note:\n",
        "          You should try to make use of Tensorflow library to perform related calculation.\n",
        "\n",
        "      Args:\n",
        "          X (tf.Tensor): The input.\n",
        "          y (tf.Tensor): The actual label.\n",
        "          model (tf.keras.Model): The model used to predict y with given input X. \n",
        "\n",
        "      Returns:\n",
        "          Tuple: (gradient w.r.t w, gradient w.r.t b)\n",
        "    \"\"\"\n",
        "    # <FILL IN>\n",
        "    # return (<FILL IN>, # <FILL IN>)\n",
        "\n",
        "    grads_w =  2 * tf.reduce_mean((model(X)-y) * X, 0,keepdims=True)\n",
        "    grads_b  =2 * tf.reduce_mean((model(X)-y), 0)[0]\n",
        "\n",
        "    sqw = tf.square(grads_w)\n",
        "\n",
        "    self.accumulator = (self.accumulator[0] + sqw[0][0] + sqw[0][1] + tf.square(grads_b), self.accumulator[1])\n",
        "\n",
        "    return (grads_w,grads_b)\n",
        "\n",
        "    # YOUR CODE HERE\n",
        "    #raise NotImplementedError()\n",
        "\n",
        "  def apply_gradient(self, grads, model):\n",
        "    \"\"\"Updates parameters of the model.\n",
        "\n",
        "      Note:\n",
        "          You should try to make use of Tensorflow library to perform related calculation.\n",
        "\n",
        "      Args:\n",
        "          grads (Tuple): (gradient w.r.t w, gradient w.r.t b).\n",
        "          model (tf.keras.Model): The model used to predict y with given input X. \n",
        "    \"\"\"\n",
        "    # <FILL IN>\n",
        "\n",
        "    model.w.assign(model.w - self.lr * grads[0] / (tf.sqrt(self.accumulator[0]) + self.epsilon) )\n",
        "    model.b.assign(model.b - self.lr * grads[1] / (tf.sqrt(self.accumulator[0]) + self.epsilon) )\n",
        "\n",
        "    # YOUR CODE HERE\n",
        "    #raise NotImplementedError()"
      ],
      "execution_count": 0,
      "outputs": []
    },
    {
      "cell_type": "code",
      "metadata": {
        "colab_type": "code",
        "id": "kzeYXHRZ2xZD",
        "colab": {
          "base_uri": "https://localhost:8080/",
          "height": 612
        },
        "outputId": "acf0710a-b2b1-4c4d-8c7c-29aa4c4132a5"
      },
      "source": [
        "# Evaluation\n",
        "model_2 = Linear()\n",
        "opt_2 = AdaGrad(lr=0.1)\n",
        "\n",
        "print(\"Initial loss: %.3f\" % loss(model_2(X_train), y_train))\n",
        "\n",
        "epochs = 300\n",
        "for i in range(epochs):\n",
        "  # Calculate current gradients\n",
        "  grads = opt_2.calculate_gradient(X_train, y_train, model_2)\n",
        "  # Use the optimizer to update gradients\n",
        "  opt_2.apply_gradient(grads, model_2)\n",
        "  if i % 20 == 0:\n",
        "    print(\"Loss at epoch %d: %.3f\" % (i, loss(model_2(X_train), y_train)))\n",
        "\n",
        "print(\"Final loss: %.3f\" % loss(model_2(X_train), y_train))\n",
        "print(\"w = %s, b = %s\" % (model_2.w.numpy(), model_2.b.numpy()))"
      ],
      "execution_count": 167,
      "outputs": [
        {
          "output_type": "stream",
          "text": [
            "(2000, 1)\n",
            "Initial loss: 68.725\n",
            "(2000, 1)\n",
            "Loss at epoch 0: 67.098\n",
            "(2000, 1)\n",
            "Loss at epoch 20: 56.755\n",
            "(2000, 1)\n",
            "Loss at epoch 40: 51.755\n",
            "(2000, 1)\n",
            "Loss at epoch 60: 48.095\n",
            "(2000, 1)\n",
            "Loss at epoch 80: 45.143\n",
            "(2000, 1)\n",
            "Loss at epoch 100: 42.644\n",
            "(2000, 1)\n",
            "Loss at epoch 120: 40.468\n",
            "(2000, 1)\n",
            "Loss at epoch 140: 38.537\n",
            "(2000, 1)\n",
            "Loss at epoch 160: 36.798\n",
            "(2000, 1)\n",
            "Loss at epoch 180: 35.217\n",
            "(2000, 1)\n",
            "Loss at epoch 200: 33.767\n",
            "(2000, 1)\n",
            "Loss at epoch 220: 32.428\n",
            "(2000, 1)\n",
            "Loss at epoch 240: 31.185\n",
            "(2000, 1)\n",
            "Loss at epoch 260: 30.026\n",
            "(2000, 1)\n",
            "Loss at epoch 280: 28.941\n",
            "(2000, 1)\n",
            "Final loss: 27.971\n",
            "w = [[4.6178718 4.314035 ]], b = 7.0505943\n"
          ],
          "name": "stdout"
        }
      ]
    },
    {
      "cell_type": "code",
      "metadata": {
        "colab_type": "code",
        "deletable": false,
        "editable": false,
        "id": "NhDsd7ge3DSh",
        "nbgrader": {
          "cell_type": "code",
          "checksum": "51d3f5fa96af35d1ac41b8f88304daae",
          "grade": true,
          "grade_id": "test_AdaGrad",
          "locked": true,
          "points": 10,
          "schema_version": 3,
          "solution": false,
          "task": false
        },
        "colab": {
          "base_uri": "https://localhost:8080/",
          "height": 34
        },
        "outputId": "46128c99-d2b0-41a5-db65-e64a55a4924a"
      },
      "source": [
        "# Test case\n",
        "assert np.allclose(loss(model_2(X_train), y_train), 29.0, atol=2.0), 'Wrong implementation of AdaGrad'\n"
      ],
      "execution_count": 168,
      "outputs": [
        {
          "output_type": "stream",
          "text": [
            "(2000, 1)\n"
          ],
          "name": "stdout"
        }
      ]
    },
    {
      "cell_type": "markdown",
      "metadata": {
        "colab_type": "text",
        "id": "lfBS1R4Y3Kzh"
      },
      "source": [
        "## (2d) Adam\n",
        "Although it sounds like a powerful algorithm, AdaGrad still has a bunch of shortcomings. One of them is that as the accumulated squared gradients becoming larger, the learning rate will be pushed to 0, leading to an early stop. \n",
        "\n",
        "Adam is designed to improve AdaGrad. It relies on adaptive moment estimation to set an independent adaptive learning rate for each parameter. The idea of Adam at the $t$ th epoch is described below:\n",
        "- Calculate current gradient $g^{(t)}$\n",
        "- Update biased first moment estimate\n",
        "  $$m^{(t)} = \\beta_1\\cdot m^{(t-1)}+(1-\\beta_1)\\cdot g^{(t)}$$\n",
        "- Update biased second raw moment estimate\n",
        "  $$v^{(t)} = \\beta_2\\cdot v^{(t-1)}+(1-\\beta_2)\\cdot (g^{(t)})^2$$\n",
        "- Compute bias-corrected first moment estimate\n",
        "  $$\\hat{m}^{(t)} = \\frac{m^{(t)}}{1-\\beta_1^t}$$\n",
        "- Compute bias-corrected second raw moment estimate\n",
        "  $$\\hat{v}^{(t)} = \\frac{v^{(t)}}{1-\\beta_2^t}$$\n",
        "- Update parameters with constrained learning rate\n",
        "  $$w^{(t)} = w^{(t-1)}-\\alpha\\cdot\\frac{\\hat{m}_w^{(t)}}{(\\sqrt{\\hat{v}_w^{(t)}}+\\epsilon)}$$\n",
        "  $$b^{(t)} = b^{(t-1)}-\\alpha\\cdot\\frac{\\hat{m}_b^{(t)}}{(\\sqrt{\\hat{v}_b^{(t)}}+\\epsilon)}$$\n",
        "\n",
        "where $\\beta_1$ and $\\beta_2$ are hyperparameters for the first and the second moment estimation\n",
        "\n",
        "As we can see from the update rule, Adam dynamically forms boundaries for its learning rate using first and second moment estimate without requiring too much memory space. \n",
        "\n",
        "Note that you can reuse the `calculate_gradient` function in SGD for Adam. "
      ]
    },
    {
      "cell_type": "code",
      "metadata": {
        "colab_type": "code",
        "deletable": false,
        "id": "FfEvvKMPBGIF",
        "nbgrader": {
          "cell_type": "code",
          "checksum": "203d4e2eb49f88a71afb37aa0b0f6208",
          "grade": false,
          "grade_id": "Adam",
          "locked": false,
          "schema_version": 3,
          "solution": true,
          "task": false
        },
        "colab": {}
      },
      "source": [
        "# TODO: Replace <FILL IN> with appropriate code\n",
        "class Adam():\n",
        "  def __init__(self, lr=0.001, beta1=0.9, beta2=0.999, epsilon=1e-7):\n",
        "    \"\"\"Initializes required parameters.\n",
        "\n",
        "      Note: \n",
        "        self.m is a list of Tensor, representing first moment estimations of gradients. The initial value should be [0]. \n",
        "        self.v is a list of Tensor, representing second moment estimations of gradients. The initial value should be [0]. \n",
        "        self.t is the timestep. The initial value should be 0. \n",
        "\n",
        "      Args:\n",
        "          lr (float): Learning rate.\n",
        "          epsilon (float): Additive constant that ensures we do not divide by 0.\n",
        "          beta1 (float): Hyperparameter for first moment estimation\n",
        "          beta2 (float): Hyperparameter for second moment estimation\n",
        "    \"\"\"\n",
        "    # self.lr = <FILL IN>\n",
        "    # self.beta1 = <FILL IN>\n",
        "    # self.beta2 = <FILL IN>\n",
        "    # self.epsilon = <FILL IN>\n",
        "    # self.v = <FILL IN>\n",
        "    # self.m = <FILL IN>\n",
        "    # self.t = <FILL IN>\n",
        "\n",
        "\n",
        "    self.lr = lr\n",
        "    self.beta1 = beta1\n",
        "    self.beta2 = beta2\n",
        "    self.epsilon = epsilon\n",
        "    self.v = 0\n",
        "    self.m = [tf.Variable([[0.0, 0.0]]),tf.Variable(0.0)]\n",
        "    self.t = 0\n",
        "\n",
        "    # YOUR CODE HERE\n",
        "    #raise NotImplementedError()\n",
        "    \n",
        "  def calculate_gradient(self, X, y, model):\n",
        "    \"\"\"Calculates gradients in the computational graph.\n",
        "\n",
        "      Note:\n",
        "          You should try to make use of Tensorflow library to perform related calculation.\n",
        "\n",
        "      Args:\n",
        "          X (tf.Tensor): The input.\n",
        "          y (tf.Tensor): The actual label.\n",
        "          model (tf.keras.Model): The model used to predict y with given input X. \n",
        "\n",
        "      Returns:\n",
        "          Tuple: (gradient w.r.t w, gradient w.r.t b)\n",
        "    \"\"\"\n",
        "    # <FILL IN>\n",
        "    # return (<FILL IN>, <FILL IN>)\n",
        "\n",
        "\n",
        "    grads_w =  2 * tf.reduce_mean((model(X)-y) * X, 0,keepdims=True)\n",
        "    grads_b  =2 * tf.reduce_mean((model(X)-y), 0)[0]\n",
        "\n",
        "    return (grads_w, grads_b) \n",
        "\n",
        "    # YOUR CODE HERE\n",
        "    #raise NotImplementedError()\n",
        "\n",
        "  def apply_gradient(self, grads, model):\n",
        "    \"\"\"Updates parameters of the model.\n",
        "\n",
        "      Note:\n",
        "          You should try to make use of Tensorflow library to perform related calculation.\n",
        "\n",
        "      Args:\n",
        "          grads (Tuple): (gradient w.r.t w, gradient w.r.t b).\n",
        "          model (tf.keras.Model): The model used to predict y with given input X. \n",
        "    \"\"\"\n",
        "    # <FILL IN>\n",
        "    self.t = self.t + 1\n",
        "\n",
        "    sqw = tf.square(grads[0])\n",
        "    sqg = sqw[0][0] + sqw[0][1] + tf.square(grads[1])\n",
        "\n",
        "    self.m[0] = self.beta1 * self.m[0] + (1-self.beta1) * grads[0]\n",
        "    self.m[1] = self.beta1 * self.m[1] + (1-self.beta1) * grads[1]\n",
        "\n",
        "    self.v = self.beta2 * self.v + (1-self.beta2) * sqg\n",
        "\n",
        "    mhat = [self.m[0],self.m[1]]\n",
        "    mhat[0] = mhat[0] / (1 - tf.pow(self.beta1,self.t))\n",
        "    mhat[1] = mhat[1] / (1 - tf.pow(self.beta1,self.t))\n",
        "\n",
        "    vhat = self.v\n",
        "\n",
        "    vhat = vhat / (1-tf.pow(self.beta2,self.t))\n",
        "\n",
        "\n",
        "    model.w.assign(model.w - self.lr * mhat[0] / (tf.sqrt(vhat) + self.epsilon) )\n",
        "    model.b.assign(model.b - self.lr * mhat[1] / (tf.sqrt(vhat) + self.epsilon) )\n",
        "    \n",
        "\n",
        "    # YOUR CODE HERE\n",
        "    #raise NotImplementedError()"
      ],
      "execution_count": 0,
      "outputs": []
    },
    {
      "cell_type": "code",
      "metadata": {
        "colab_type": "code",
        "id": "V0ImykFnDgGf",
        "colab": {
          "base_uri": "https://localhost:8080/",
          "height": 612
        },
        "outputId": "a796e791-6086-432c-c969-43c435a50106"
      },
      "source": [
        "# Evaluation\n",
        "model_3 = Linear()\n",
        "opt_3 = Adam(lr=0.1)\n",
        "print(\"Initial loss: %.3f\" % loss(model_3(X_train), y_train))\n",
        "\n",
        "epochs = 300\n",
        "for i in range(epochs):\n",
        "  # Calculate current gradients\n",
        "  grads = opt_3.calculate_gradient(X_train, y_train, model_3)\n",
        "  # Use the optimizer to update gradients\n",
        "  opt_3.apply_gradient(grads, model_3)\n",
        "  if i % 20 == 0:\n",
        "    print(\"Loss at epoch %d: %.3f\" % (i, loss(model_3(X_train), y_train)))\n",
        "\n",
        "print(\"Final loss: %.3f\" % loss(model_3(X_train), y_train))\n",
        "print(\"w = %s, b = %s\" % (model_3.w.numpy(), model_3.b.numpy()))"
      ],
      "execution_count": 178,
      "outputs": [
        {
          "output_type": "stream",
          "text": [
            "(2000, 1)\n",
            "Initial loss: 68.725\n",
            "(2000, 1)\n",
            "Loss at epoch 0: 67.098\n",
            "(2000, 1)\n",
            "Loss at epoch 20: 39.175\n",
            "(2000, 1)\n",
            "Loss at epoch 40: 20.497\n",
            "(2000, 1)\n",
            "Loss at epoch 60: 9.740\n",
            "(2000, 1)\n",
            "Loss at epoch 80: 4.388\n",
            "(2000, 1)\n",
            "Loss at epoch 100: 2.107\n",
            "(2000, 1)\n",
            "Loss at epoch 120: 1.286\n",
            "(2000, 1)\n",
            "Loss at epoch 140: 1.041\n",
            "(2000, 1)\n",
            "Loss at epoch 160: 0.982\n",
            "(2000, 1)\n",
            "Loss at epoch 180: 0.971\n",
            "(2000, 1)\n",
            "Loss at epoch 200: 0.969\n",
            "(2000, 1)\n",
            "Loss at epoch 220: 0.969\n",
            "(2000, 1)\n",
            "Loss at epoch 240: 0.969\n",
            "(2000, 1)\n",
            "Loss at epoch 260: 0.969\n",
            "(2000, 1)\n",
            "Loss at epoch 280: 0.969\n",
            "(2000, 1)\n",
            "Final loss: 0.969\n",
            "w = [[4.0030727 3.048941 ]], b = 2.0169268\n"
          ],
          "name": "stdout"
        }
      ]
    },
    {
      "cell_type": "code",
      "metadata": {
        "colab_type": "code",
        "deletable": false,
        "editable": false,
        "id": "T4WougDyDswB",
        "nbgrader": {
          "cell_type": "code",
          "checksum": "a9b20bbff8cafa63968a8d947858b2f3",
          "grade": true,
          "grade_id": "test_Adam",
          "locked": true,
          "points": 15,
          "schema_version": 3,
          "solution": false,
          "task": false
        },
        "colab": {
          "base_uri": "https://localhost:8080/",
          "height": 34
        },
        "outputId": "383b6ab9-e62c-46c1-f559-33153539d0b6"
      },
      "source": [
        "# Test case\n",
        "assert np.allclose(loss(model_3(X_train), y_train), 1.0, atol=0.4), 'Wrong implementation of Adam'\n"
      ],
      "execution_count": 179,
      "outputs": [
        {
          "output_type": "stream",
          "text": [
            "(2000, 1)\n"
          ],
          "name": "stdout"
        }
      ]
    },
    {
      "cell_type": "code",
      "metadata": {
        "id": "Id8TVRkede3f",
        "colab_type": "code",
        "colab": {}
      },
      "source": [
        ""
      ],
      "execution_count": 0,
      "outputs": []
    }
  ]
}