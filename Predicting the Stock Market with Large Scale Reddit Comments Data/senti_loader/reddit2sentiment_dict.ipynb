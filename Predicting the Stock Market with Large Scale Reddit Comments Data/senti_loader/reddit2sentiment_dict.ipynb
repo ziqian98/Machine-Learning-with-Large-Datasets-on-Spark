{
 "cells": [
  {
   "cell_type": "code",
   "execution_count": 1,
   "metadata": {},
   "outputs": [
    {
     "data": {
      "application/vnd.jupyter.widget-view+json": {
       "model_id": "",
       "version_major": 2,
       "version_minor": 0
      },
      "text/plain": [
       "VBox()"
      ]
     },
     "metadata": {},
     "output_type": "display_data"
    },
    {
     "name": "stdout",
     "output_type": "stream",
     "text": [
      "Starting Spark application\n"
     ]
    },
    {
     "data": {
      "text/html": [
       "<table>\n",
       "<tr><th>ID</th><th>YARN Application ID</th><th>Kind</th><th>State</th><th>Spark UI</th><th>Driver log</th><th>Current session?</th></tr><tr><td>0</td><td>application_1587579532010_0001</td><td>pyspark</td><td>idle</td><td><a target=\"_blank\" href=\"http://ip-172-31-16-49.ec2.internal:20888/proxy/application_1587579532010_0001/\">Link</a></td><td><a target=\"_blank\" href=\"http://ip-172-31-29-96.ec2.internal:8042/node/containerlogs/container_1587579532010_0001_01_000001/livy\">Link</a></td><td>✔</td></tr></table>"
      ],
      "text/plain": [
       "<IPython.core.display.HTML object>"
      ]
     },
     "metadata": {},
     "output_type": "display_data"
    },
    {
     "data": {
      "application/vnd.jupyter.widget-view+json": {
       "model_id": "",
       "version_major": 2,
       "version_minor": 0
      },
      "text/plain": [
       "FloatProgress(value=0.0, bar_style='info', description='Progress:', layout=Layout(height='25px', width='50%'),…"
      ]
     },
     "metadata": {},
     "output_type": "display_data"
    },
    {
     "name": "stdout",
     "output_type": "stream",
     "text": [
      "SparkSession available as 'spark'.\n"
     ]
    },
    {
     "data": {
      "application/vnd.jupyter.widget-view+json": {
       "model_id": "",
       "version_major": 2,
       "version_minor": 0
      },
      "text/plain": [
       "FloatProgress(value=0.0, bar_style='info', description='Progress:', layout=Layout(height='25px', width='50%'),…"
      ]
     },
     "metadata": {},
     "output_type": "display_data"
    }
   ],
   "source": [
    "import pyspark\n",
    "import json\n",
    "\n",
    "sc = spark.sparkContext"
   ]
  },
  {
   "cell_type": "code",
   "execution_count": 2,
   "metadata": {},
   "outputs": [
    {
     "data": {
      "application/vnd.jupyter.widget-view+json": {
       "model_id": "2bf4c22b3aff4078b0d67f08334240ab",
       "version_major": 2,
       "version_minor": 0
      },
      "text/plain": [
       "VBox()"
      ]
     },
     "metadata": {},
     "output_type": "display_data"
    },
    {
     "data": {
      "application/vnd.jupyter.widget-view+json": {
       "model_id": "",
       "version_major": 2,
       "version_minor": 0
      },
      "text/plain": [
       "FloatProgress(value=0.0, bar_style='info', description='Progress:', layout=Layout(height='25px', width='50%'),…"
      ]
     },
     "metadata": {},
     "output_type": "display_data"
    }
   ],
   "source": [
    "def load_dictionary(file_path):\n",
    "    senti_dict = {}\n",
    "    pos_scores = []\n",
    "    neu_scores = []\n",
    "    neg_scores = []\n",
    "    count = []\n",
    "    index = 0\n",
    "    raw_data = sc.textFile(file_path)\n",
    "\n",
    "    for line in raw_data.collect():\n",
    "        if line.startswith(\"#\"):\n",
    "            continue\n",
    "        cols = line.split(\"\\t\")\n",
    "        try:\n",
    "            for entry in cols[4].split():\n",
    "                word = entry.split(\"#\")[0]\n",
    "                pos_score = float(cols[2])\n",
    "                neg_score = float(cols[3])\n",
    "                neu_score = 1 - pos_score - neg_score\n",
    "                if word not in senti_dict.keys():\n",
    "                    senti_dict[word] = index\n",
    "                    count.append(1)\n",
    "                    pos_scores.append(pos_score)\n",
    "                    neg_scores.append(neg_score)\n",
    "                    neu_scores.append(neu_score)\n",
    "                    index += 1\n",
    "                else:\n",
    "                    count[senti_dict[word]] += 1\n",
    "                    pos_scores[senti_dict[word]] += pos_score\n",
    "                    neg_scores[senti_dict[word]] += neg_score\n",
    "                    neu_scores[senti_dict[word]] += neu_score\n",
    "        except ValueError:\n",
    "            continue\n",
    "\n",
    "    for i in senti_dict.values():\n",
    "        pos_scores[i] /= count[i]\n",
    "        neg_scores[i] /= count[i]\n",
    "        neu_scores[i] /= count[i]\n",
    "        \n",
    "    return senti_dict, pos_scores, neu_scores, neg_scores\n",
    "        \n",
    "senti_dict, pos_scores, neu_scores, neg_scores =  load_dictionary(\"s3://ml-team15/SentiWordNet_3.0.0.txt\")\n",
    "\n",
    "senti_dict_bc = sc.broadcast(senti_dict)\n",
    "pos_scores_bc = sc.broadcast(pos_scores)\n",
    "neu_scores_bc = sc.broadcast(neu_scores)\n",
    "neg_scores_bc = sc.broadcast(neg_scores)"
   ]
  },
  {
   "cell_type": "code",
   "execution_count": 3,
   "metadata": {},
   "outputs": [
    {
     "data": {
      "application/vnd.jupyter.widget-view+json": {
       "model_id": "055a525cd79746f38b2380e06d0d000f",
       "version_major": 2,
       "version_minor": 0
      },
      "text/plain": [
       "VBox()"
      ]
     },
     "metadata": {},
     "output_type": "display_data"
    },
    {
     "data": {
      "application/vnd.jupyter.widget-view+json": {
       "model_id": "",
       "version_major": 2,
       "version_minor": 0
      },
      "text/plain": [
       "FloatProgress(value=0.0, bar_style='info', description='Progress:', layout=Layout(height='25px', width='50%'),…"
      ]
     },
     "metadata": {},
     "output_type": "display_data"
    }
   ],
   "source": [
    "def encode(sentence, senti_dict):\n",
    "    sentence_split = sentence.split()\n",
    "    if len(sentence_split) <= 3 or len(sentence_split) >= 50:\n",
    "        encoded = []\n",
    "    else:\n",
    "        encoded = [senti_dict[word] for word in sentence_split if word in senti_dict]\n",
    "    return encoded, len(encoded) + 1e-9\n",
    "\n",
    "def get_scores(sentence, senti_dict, pos_scores, neu_scores, neg_scores):\n",
    "    pos_score = 0\n",
    "    neu_score = 0\n",
    "    neg_score = 0\n",
    "    encoded, encoded_len = encode(sentence, senti_dict)\n",
    "    for index in encoded:\n",
    "        pos_score += pos_scores[index]\n",
    "        neu_score += neu_scores[index]\n",
    "        neg_score += neg_scores[index]\n",
    "    return pos_score / encoded_len, neu_score / encoded_len, neg_score / encoded_len"
   ]
  },
  {
   "cell_type": "code",
   "execution_count": 5,
   "metadata": {},
   "outputs": [
    {
     "data": {
      "application/vnd.jupyter.widget-view+json": {
       "model_id": "26e9f1eee5e44d6b9ba618f7936ec744",
       "version_major": 2,
       "version_minor": 0
      },
      "text/plain": [
       "VBox()"
      ]
     },
     "metadata": {},
     "output_type": "display_data"
    },
    {
     "data": {
      "application/vnd.jupyter.widget-view+json": {
       "model_id": "",
       "version_major": 2,
       "version_minor": 0
      },
      "text/plain": [
       "FloatProgress(value=0.0, bar_style='info', description='Progress:', layout=Layout(height='25px', width='50%'),…"
      ]
     },
     "metadata": {},
     "output_type": "display_data"
    }
   ],
   "source": [
    "def filter_patition(chunks):\n",
    "    filtered = []\n",
    "    senti_dict = senti_dict_bc.value\n",
    "    pos_scores = pos_scores_bc.value\n",
    "    neu_scores = neu_scores_bc.value\n",
    "    neg_scores = neg_scores_bc.value\n",
    "    for chunk in chunks:\n",
    "        json_data = json.loads(chunk)\n",
    "        if \"created_utc\" not in json_data or \"subreddit\" not in json_data or \"body\" not in json_data:\n",
    "            continue\n",
    "        senti_scores = get_scores(json_data[\"body\"], senti_dict,\n",
    "                                 pos_scores, neu_scores, neg_scores)\n",
    "        if senti_scores[0] + senti_scores[1] + senti_scores[2] == 0:\n",
    "            continue\n",
    "        filtered.append((json_data[\"created_utc\"], json_data[\"subreddit\"], senti_scores))\n",
    "    return filtered\n",
    "\n",
    "num_cores = 16\n",
    "num_partitions = num_cores * 600"
   ]
  },
  {
   "cell_type": "code",
   "execution_count": 6,
   "metadata": {},
   "outputs": [
    {
     "data": {
      "application/vnd.jupyter.widget-view+json": {
       "model_id": "739d6ea1592847d594f54796c9469a11",
       "version_major": 2,
       "version_minor": 0
      },
      "text/plain": [
       "VBox()"
      ]
     },
     "metadata": {},
     "output_type": "display_data"
    },
    {
     "data": {
      "application/vnd.jupyter.widget-view+json": {
       "model_id": "",
       "version_major": 2,
       "version_minor": 0
      },
      "text/plain": [
       "FloatProgress(value=0.0, bar_style='info', description='Progress:', layout=Layout(height='25px', width='50%'),…"
      ]
     },
     "metadata": {},
     "output_type": "display_data"
    }
   ],
   "source": [
    "data_path = 's3://ml-team15/2015_reddit_comments_corpus/reddit_data/2007/RC_20??-??.bz2'\n",
    "data = sc.textFile(data_path, minPartitions=num_partitions).mapPartitions(filter_patition)\n",
    "data.repartition(num_cores * 5).saveAsTextFile(\"s3://ml-team15/reddit_senti_2007\")"
   ]
  },
  {
   "cell_type": "code",
   "execution_count": 7,
   "metadata": {},
   "outputs": [
    {
     "data": {
      "application/vnd.jupyter.widget-view+json": {
       "model_id": "ba75db08041d48b9b117178c6f23a484",
       "version_major": 2,
       "version_minor": 0
      },
      "text/plain": [
       "VBox()"
      ]
     },
     "metadata": {},
     "output_type": "display_data"
    },
    {
     "data": {
      "application/vnd.jupyter.widget-view+json": {
       "model_id": "",
       "version_major": 2,
       "version_minor": 0
      },
      "text/plain": [
       "FloatProgress(value=0.0, bar_style='info', description='Progress:', layout=Layout(height='25px', width='50%'),…"
      ]
     },
     "metadata": {},
     "output_type": "display_data"
    }
   ],
   "source": [
    "data_path = 's3://ml-team15/2015_reddit_comments_corpus/reddit_data/2008/RC_20??-??.bz2'\n",
    "data = sc.textFile(data_path, minPartitions=num_partitions).mapPartitions(filter_patition)\n",
    "data.repartition(num_cores * 5).saveAsTextFile(\"s3://ml-team15/reddit_senti_2008\")"
   ]
  },
  {
   "cell_type": "code",
   "execution_count": 8,
   "metadata": {},
   "outputs": [
    {
     "data": {
      "application/vnd.jupyter.widget-view+json": {
       "model_id": "8d034a5dc7544f5ea499d9ee0f50dc1d",
       "version_major": 2,
       "version_minor": 0
      },
      "text/plain": [
       "VBox()"
      ]
     },
     "metadata": {},
     "output_type": "display_data"
    },
    {
     "data": {
      "application/vnd.jupyter.widget-view+json": {
       "model_id": "",
       "version_major": 2,
       "version_minor": 0
      },
      "text/plain": [
       "FloatProgress(value=0.0, bar_style='info', description='Progress:', layout=Layout(height='25px', width='50%'),…"
      ]
     },
     "metadata": {},
     "output_type": "display_data"
    }
   ],
   "source": [
    "data_path = 's3://ml-team15/2015_reddit_comments_corpus/reddit_data/2009/RC_20??-??.bz2'\n",
    "data = sc.textFile(data_path, minPartitions=num_partitions).mapPartitions(filter_patition)\n",
    "data.repartition(num_cores * 5).saveAsTextFile(\"s3://ml-team15/reddit_senti_2009\")"
   ]
  },
  {
   "cell_type": "code",
   "execution_count": 15,
   "metadata": {},
   "outputs": [
    {
     "data": {
      "application/vnd.jupyter.widget-view+json": {
       "model_id": "cec37fb3f2414b259d450291294e056f",
       "version_major": 2,
       "version_minor": 0
      },
      "text/plain": [
       "VBox()"
      ]
     },
     "metadata": {},
     "output_type": "display_data"
    },
    {
     "data": {
      "application/vnd.jupyter.widget-view+json": {
       "model_id": "",
       "version_major": 2,
       "version_minor": 0
      },
      "text/plain": [
       "FloatProgress(value=0.0, bar_style='info', description='Progress:', layout=Layout(height='25px', width='50%'),…"
      ]
     },
     "metadata": {},
     "output_type": "display_data"
    }
   ],
   "source": [
    "data_path = 's3://ml-team15/2015_reddit_comments_corpus/reddit_data/2010/RC_20??-??.bz2'\n",
    "data = sc.textFile(data_path, minPartitions=num_partitions).mapPartitions(filter_patition)\n",
    "data.repartition(num_cores * 5).saveAsTextFile(\"s3://ml-team15/reddit_senti_2010\")"
   ]
  },
  {
   "cell_type": "code",
   "execution_count": 10,
   "metadata": {},
   "outputs": [
    {
     "data": {
      "application/vnd.jupyter.widget-view+json": {
       "model_id": "b57004a750b54985ba66c7e974f04d71",
       "version_major": 2,
       "version_minor": 0
      },
      "text/plain": [
       "VBox()"
      ]
     },
     "metadata": {},
     "output_type": "display_data"
    },
    {
     "data": {
      "application/vnd.jupyter.widget-view+json": {
       "model_id": "",
       "version_major": 2,
       "version_minor": 0
      },
      "text/plain": [
       "FloatProgress(value=0.0, bar_style='info', description='Progress:', layout=Layout(height='25px', width='50%'),…"
      ]
     },
     "metadata": {},
     "output_type": "display_data"
    }
   ],
   "source": [
    "data_path = 's3://ml-team15/2015_reddit_comments_corpus/reddit_data/2011/RC_20??-??.bz2'\n",
    "data = sc.textFile(data_path, minPartitions=num_partitions).mapPartitions(filter_patition)\n",
    "data.repartition(num_cores * 5).saveAsTextFile(\"s3://ml-team15/reddit_senti_2011\")"
   ]
  },
  {
   "cell_type": "code",
   "execution_count": 11,
   "metadata": {},
   "outputs": [
    {
     "data": {
      "application/vnd.jupyter.widget-view+json": {
       "model_id": "7bb0be3cd76647b7a01aac2890b388cc",
       "version_major": 2,
       "version_minor": 0
      },
      "text/plain": [
       "VBox()"
      ]
     },
     "metadata": {},
     "output_type": "display_data"
    },
    {
     "data": {
      "application/vnd.jupyter.widget-view+json": {
       "model_id": "",
       "version_major": 2,
       "version_minor": 0
      },
      "text/plain": [
       "FloatProgress(value=0.0, bar_style='info', description='Progress:', layout=Layout(height='25px', width='50%'),…"
      ]
     },
     "metadata": {},
     "output_type": "display_data"
    }
   ],
   "source": [
    "data_path = 's3://ml-team15/2015_reddit_comments_corpus/reddit_data/2012/RC_20??-??.bz2'\n",
    "data = sc.textFile(data_path, minPartitions=num_partitions).mapPartitions(filter_patition)\n",
    "data.repartition(num_cores * 5).saveAsTextFile(\"s3://ml-team15/reddit_senti_2012\")"
   ]
  },
  {
   "cell_type": "code",
   "execution_count": 12,
   "metadata": {},
   "outputs": [
    {
     "data": {
      "application/vnd.jupyter.widget-view+json": {
       "model_id": "1d43dfdf6cec4faeb04b2802545bd2ff",
       "version_major": 2,
       "version_minor": 0
      },
      "text/plain": [
       "VBox()"
      ]
     },
     "metadata": {},
     "output_type": "display_data"
    },
    {
     "data": {
      "application/vnd.jupyter.widget-view+json": {
       "model_id": "",
       "version_major": 2,
       "version_minor": 0
      },
      "text/plain": [
       "FloatProgress(value=0.0, bar_style='info', description='Progress:', layout=Layout(height='25px', width='50%'),…"
      ]
     },
     "metadata": {},
     "output_type": "display_data"
    }
   ],
   "source": [
    "data_path = 's3://ml-team15/2015_reddit_comments_corpus/reddit_data/2013/RC_20??-??.bz2'\n",
    "data = sc.textFile(data_path, minPartitions=num_partitions).mapPartitions(filter_patition)\n",
    "data.repartition(num_cores * 5).saveAsTextFile(\"s3://ml-team15/reddit_senti_2013\")"
   ]
  },
  {
   "cell_type": "code",
   "execution_count": null,
   "metadata": {},
   "outputs": [
    {
     "data": {
      "application/vnd.jupyter.widget-view+json": {
       "model_id": "66a71984efd146749d0813edc251bba5",
       "version_major": 2,
       "version_minor": 0
      },
      "text/plain": [
       "VBox()"
      ]
     },
     "metadata": {},
     "output_type": "display_data"
    },
    {
     "data": {
      "application/vnd.jupyter.widget-view+json": {
       "model_id": "d2c438b074154c579befd5878d216bfb",
       "version_major": 2,
       "version_minor": 0
      },
      "text/plain": [
       "FloatProgress(value=0.0, bar_style='info', description='Progress:', layout=Layout(height='25px', width='50%'),…"
      ]
     },
     "metadata": {},
     "output_type": "display_data"
    }
   ],
   "source": [
    "data_path = 's3://ml-team15/2015_reddit_comments_corpus/reddit_data/2014/RC_20??-??.bz2'\n",
    "data = sc.textFile(data_path, minPartitions=num_partitions).mapPartitions(filter_patition)\n",
    "data.repartition(num_cores * 20).saveAsTextFile(\"s3://ml-team15/reddit_senti_2014\")"
   ]
  },
  {
   "cell_type": "code",
   "execution_count": 14,
   "metadata": {},
   "outputs": [
    {
     "data": {
      "application/vnd.jupyter.widget-view+json": {
       "model_id": "efd0990983a34a6a9756920ce7f7decd",
       "version_major": 2,
       "version_minor": 0
      },
      "text/plain": [
       "VBox()"
      ]
     },
     "metadata": {},
     "output_type": "display_data"
    },
    {
     "data": {
      "application/vnd.jupyter.widget-view+json": {
       "model_id": "",
       "version_major": 2,
       "version_minor": 0
      },
      "text/plain": [
       "FloatProgress(value=0.0, bar_style='info', description='Progress:', layout=Layout(height='25px', width='50%'),…"
      ]
     },
     "metadata": {},
     "output_type": "display_data"
    }
   ],
   "source": [
    "data_path = 's3://ml-team15/2015_reddit_comments_corpus/reddit_data/2015/RC_20??-??.bz2'\n",
    "data = sc.textFile(data_path, minPartitions=num_partitions).mapPartitions(filter_patition)\n",
    "data.repartition(num_cores * 5).saveAsTextFile(\"s3://ml-team15/reddit_senti_2015\")"
   ]
  }
 ],
 "metadata": {
  "kernelspec": {
   "display_name": "PySpark",
   "language": "",
   "name": "pysparkkernel"
  },
  "language_info": {
   "codemirror_mode": {
    "name": "python",
    "version": 2
   },
   "mimetype": "text/x-python",
   "name": "pyspark",
   "pygments_lexer": "python2"
  }
 },
 "nbformat": 4,
 "nbformat_minor": 4
}
